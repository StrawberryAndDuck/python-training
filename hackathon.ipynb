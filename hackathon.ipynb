{
 "cells": [
  {
   "cell_type": "markdown",
   "metadata": {},
   "source": [
    "# 통합 배송 데이터 분석"
   ]
  },
  {
   "cell_type": "markdown",
   "metadata": {},
   "source": [
    "## 데이터 로드 및 초기 설정"
   ]
  },
  {
   "cell_type": "code",
   "execution_count": 19,
   "metadata": {},
   "outputs": [],
   "source": [
    "# 필요한 라이브러리 임포트\n",
    "import pandas as pd\n",
    "import numpy as np\n",
    "import matplotlib.pyplot as plt\n",
    "import seaborn as sns\n",
    "import os\n",
    "from sklearn.model_selection import train_test_split\n",
    "from sklearn.preprocessing import StandardScaler\n",
    "from sklearn.metrics import classification_report, roc_auc_score\n",
    "from sklearn.ensemble import RandomForestClassifier\n",
    "from sklearn.linear_model import LogisticRegression\n",
    "import xgboost as xgb\n",
    "import kagglehub\n",
    "from sklearn.impute import SimpleImputer\n",
    "from sklearn.preprocessing import StandardScaler"
   ]
  },
  {
   "cell_type": "markdown",
   "metadata": {},
   "source": [
    "## 데이터 로드"
   ]
  },
  {
   "cell_type": "code",
   "execution_count": 7,
   "metadata": {},
   "outputs": [],
   "source": [
    "# 데이터 로드_나래\n",
    "# order_items = pd.read_csv('/content/drive/MyDrive/아이펠/data/olist_order_items_dataset.csv')\n",
    "# products = pd.read_csv('/content/drive/MyDrive/아이펠/data/olist_products_dataset.csv')\n",
    "# orders = pd.read_csv('/content/drive/MyDrive/아이펠/data/olist_orders_dataset.csv')\n",
    "# customers = pd.read_csv(\"/content/drive/MyDrive/아이펠/data/olist_customers_dataset.csv\")\n",
    "# sellers = pd.read_csv(\"/content/drive/MyDrive/아이펠/data/olist_sellers_dataset.csv\")"
   ]
  },
  {
   "cell_type": "code",
   "execution_count": 8,
   "metadata": {},
   "outputs": [
    {
     "name": "stdout",
     "output_type": "stream",
     "text": [
      "Warning: Looks like you're using an outdated `kagglehub` version (installed: 0.3.9), please consider upgrading to the latest version (0.3.10).\n"
     ]
    }
   ],
   "source": [
    "# 데이터 로드_소희\n",
    "\n",
    "# Download latest version\n",
    "path = kagglehub.dataset_download(\"olistbr/brazilian-ecommerce\")\n",
    "\n",
    "# CSV 파일로 읽기\n",
    "# 제품 관련 데이터\n",
    "orders = pd.read_csv(os.path.join(path, 'olist_orders_dataset.csv'))\n",
    "order_items = pd.read_csv(os.path.join(path, 'olist_order_items_dataset.csv'))\n",
    "products = pd.read_csv(os.path.join(path, 'olist_products_dataset.csv'))\n",
    "sellers = pd.read_csv(os.path.join(path, 'olist_sellers_dataset.csv'))\n",
    "customers = pd.read_csv(os.path.join(path, 'olist_customers_dataset.csv'))"
   ]
  },
  {
   "cell_type": "markdown",
   "metadata": {},
   "source": [
    "## 데이터 병합 및 전처리"
   ]
  },
  {
   "cell_type": "markdown",
   "metadata": {},
   "source": [
    "### 데이터 병합"
   ]
  },
  {
   "cell_type": "code",
   "execution_count": 9,
   "metadata": {},
   "outputs": [],
   "source": [
    "# 병합 단계\n",
    "merge_df = order_items.merge(products, on='product_id', how='left')\n",
    "full_df = merge_df.merge(orders, on='order_id', how='left')\n",
    "full_df = full_df.merge(customers[['customer_id', 'customer_city']], on='customer_id', how='left')\n",
    "full_df = full_df.merge(sellers[['seller_id', 'seller_city']], on='seller_id', how='left')"
   ]
  },
  {
   "cell_type": "markdown",
   "metadata": {},
   "source": [
    "### 날짜 데이터 변환 및 추가 전처리"
   ]
  },
  {
   "cell_type": "code",
   "execution_count": 10,
   "metadata": {},
   "outputs": [],
   "source": [
    "# 날짜 데이터 변환\n",
    "full_df['order_delivered_customer_date'] = pd.to_datetime(full_df['order_delivered_customer_date'])\n",
    "full_df['order_delivered_carrier_date'] = pd.to_datetime(full_df['order_delivered_carrier_date'])\n",
    "full_df['order_estimated_delivery_date'] = pd.to_datetime(full_df['order_estimated_delivery_date'])\n",
    "\n",
    "# 배송 시간 계산\n",
    "full_df['actual_shipping_time'] = (full_df['order_delivered_customer_date'] - full_df['order_delivered_carrier_date']).dt.days\n",
    "# 배송 지연 여부 (예측 배송 날짜보다 늦게 도착하면 지연)\n",
    "full_df['delivery_delay'] = (full_df['order_delivered_customer_date'] - full_df['order_estimated_delivery_date']).dt.days # 지연 여부 (True / False)\n",
    "# full_df 생성 (merge_df와 orders 데이터 병합)\n",
    "full_df['delayed'] = full_df['delivery_delay'] > 0"
   ]
  },
  {
   "cell_type": "markdown",
   "metadata": {},
   "source": [
    "### 결측값 처리"
   ]
  },
  {
   "cell_type": "code",
   "execution_count": 11,
   "metadata": {},
   "outputs": [],
   "source": [
    "# 결측값 제거\n",
    "full_df = full_df.dropna(subset=['actual_shipping_time', 'delivery_delay'])"
   ]
  },
  {
   "cell_type": "markdown",
   "metadata": {},
   "source": [
    "### 데이터 탐색"
   ]
  },
  {
   "cell_type": "code",
   "execution_count": 22,
   "metadata": {},
   "outputs": [
    {
     "name": "stdout",
     "output_type": "stream",
     "text": [
      "<class 'pandas.core.frame.DataFrame'>\n",
      "Index: 110195 entries, 0 to 112649\n",
      "Data columns (total 28 columns):\n",
      " #   Column                         Non-Null Count   Dtype         \n",
      "---  ------                         --------------   -----         \n",
      " 0   order_id                       110195 non-null  object        \n",
      " 1   order_item_id                  110195 non-null  int64         \n",
      " 2   product_id                     110195 non-null  object        \n",
      " 3   seller_id                      110195 non-null  object        \n",
      " 4   shipping_limit_date            110195 non-null  object        \n",
      " 5   price                          110195 non-null  float64       \n",
      " 6   freight_value                  110195 non-null  float64       \n",
      " 7   product_category_name          108658 non-null  object        \n",
      " 8   product_name_lenght            108658 non-null  float64       \n",
      " 9   product_description_lenght     108658 non-null  float64       \n",
      " 10  product_photos_qty             108658 non-null  float64       \n",
      " 11  product_weight_g               110177 non-null  float64       \n",
      " 12  product_length_cm              110177 non-null  float64       \n",
      " 13  product_height_cm              110177 non-null  float64       \n",
      " 14  product_width_cm               110177 non-null  float64       \n",
      " 15  customer_id                    110195 non-null  object        \n",
      " 16  order_status                   110195 non-null  object        \n",
      " 17  order_purchase_timestamp       110195 non-null  object        \n",
      " 18  order_approved_at              110180 non-null  object        \n",
      " 19  order_delivered_carrier_date   110195 non-null  datetime64[ns]\n",
      " 20  order_delivered_customer_date  110195 non-null  datetime64[ns]\n",
      " 21  order_estimated_delivery_date  110195 non-null  datetime64[ns]\n",
      " 22  customer_city                  110195 non-null  object        \n",
      " 23  seller_city                    110195 non-null  object        \n",
      " 24  actual_shipping_time           110195 non-null  float64       \n",
      " 25  delivery_delay                 110195 non-null  float64       \n",
      " 26  delayed                        110195 non-null  bool          \n",
      " 27  product_volume_cm3             110177 non-null  float64       \n",
      "dtypes: bool(1), datetime64[ns](3), float64(12), int64(1), object(11)\n",
      "memory usage: 23.6+ MB\n"
     ]
    }
   ],
   "source": [
    "full_df.info()"
   ]
  },
  {
   "cell_type": "markdown",
   "metadata": {},
   "source": [
    "## EDA (탐색적 데이터 분석)"
   ]
  },
  {
   "cell_type": "markdown",
   "metadata": {},
   "source": [
    "### 무게와 배송 시간 비교 (무거운 제품 vs 가벼운 제품 배송 차이 확인하기)"
   ]
  },
  {
   "cell_type": "code",
   "execution_count": 12,
   "metadata": {},
   "outputs": [
    {
     "data": {
      "image/png": "[encoded data removed]",
      "text/plain": [
       "<Figure size 800x500 with 1 Axes>"
      ]
     },
     "metadata": {},
     "output_type": "display_data"
    }
   ],
   "source": [
    "# 제품 무게 기준 그룹 나누기(무거운 제품: 상위 50%, 가벼운 제품: 하위 50%)\n",
    "median_weight = full_df[\"product_weight_g\"].median()\n",
    "heavy_products = full_df[full_df[\"product_weight_g\"] >= median_weight]\n",
    "light_products = full_df[full_df[\"product_weight_g\"] < median_weight]\n",
    "\n",
    "# 각 그룹별 평균 배송 시간 계산\n",
    "avg_shipping_time_heavy = heavy_products[\"actual_shipping_time\"].mean()\n",
    "avg_shipping_time_light = light_products[\"actual_shipping_time\"].mean()\n",
    "\n",
    "# 시각화\n",
    "plt.figure(figsize=(8, 5))\n",
    "plt.bar([\"Heavy Products\", \"Light Products\"], [avg_shipping_time_heavy, avg_shipping_time_light])\n",
    "plt.xlabel(\"Product Type\")\n",
    "plt.ylabel(\"Average Shipping Time (Days)\")\n",
    "plt.title(\"Shipping Time: Heavy vs Light Products\")\n",
    "plt.show()"
   ]
  },
  {
   "cell_type": "markdown",
   "metadata": {},
   "source": [
    "### 부피와 배송 시간 비교 (크기가 큰 제품 작은 제품 평균 배송 시간 비교하기)"
   ]
  },
  {
   "cell_type": "code",
   "execution_count": 13,
   "metadata": {},
   "outputs": [
    {
     "data": {
      "image/png": "[encoded data removed]",
      "text/plain": [
       "<Figure size 800x500 with 1 Axes>"
      ]
     },
     "metadata": {},
     "output_type": "display_data"
    }
   ],
   "source": [
    "# 제품 부피 계산\n",
    "full_df[\"product_volume_cm3\"] = (\n",
    "    full_df[\"product_length_cm\"] * full_df[\"product_width_cm\"] * full_df[\"product_height_cm\"]\n",
    ")\n",
    "\n",
    "# 부피 기준 그룹 나누기\n",
    "median_volume = full_df[\"product_volume_cm3\"].median()\n",
    "large_products = full_df[full_df[\"product_volume_cm3\"] >= median_volume]\n",
    "small_products = full_df[full_df[\"product_volume_cm3\"] < median_volume]\n",
    "\n",
    "# 평균 배송 시간 계산\n",
    "avg_shipping_time_large = large_products[\"actual_shipping_time\"].mean()\n",
    "avg_shipping_time_small = small_products[\"actual_shipping_time\"].mean()\n",
    "\n",
    "# 시각화\n",
    "plt.figure(figsize=(8, 5))\n",
    "plt.bar([\"Large Products\", \"Small Products\"], [avg_shipping_time_large, avg_shipping_time_small])\n",
    "plt.xlabel(\"Product Type\")\n",
    "plt.ylabel(\"Average Shipping Time (Days)\")\n",
    "plt.title(\"Shipping Time: Large vs Small Products\")\n",
    "plt.show()"
   ]
  },
  {
   "cell_type": "markdown",
   "metadata": {},
   "source": [
    "### 배송 지연 분석 (가장 배송이 늦어지는 제품 찾아보기)"
   ]
  },
  {
   "cell_type": "code",
   "execution_count": 14,
   "metadata": {},
   "outputs": [
    {
     "name": "stdout",
     "output_type": "stream",
     "text": [
      "                         product_id  delay_count   product_category_name\n",
      "0  422879e10f46682990de24d770e7f83d           47      ferramentas_jardim\n",
      "1  aca2eb7d00ea1a7b8ebd4e68314663af           42        moveis_decoracao\n",
      "2  3fbc0ef745950c7932d5f2a446189725           39            beleza_saude\n",
      "3  389d119b48cf3043d311335e499d9c6b           30      ferramentas_jardim\n",
      "4  368c6c730842d78016ad823897a372db           29      ferramentas_jardim\n",
      "5  99a4788cb24856965c36a24e339b6058           29         cama_mesa_banho\n",
      "6  53759a2ecddad2bb87a079a1f1519f73           29      ferramentas_jardim\n",
      "7  bb50f2e236e5eea0100680137654686c           28            beleza_saude\n",
      "8  19c91ef95d509ea33eda93495c4d3481           28            beleza_saude\n",
      "9  e53e557d5a159f5aa2c5e995dfdf244b           25  informatica_acessorios\n"
     ]
    }
   ],
   "source": [
    "# 지연된 주문 필터링\n",
    "delayed_orders = full_df[full_df[\"delayed\"]]\n",
    "\n",
    "# 제품별 지연 횟수 집계\n",
    "delayed_products_count = delayed_orders.groupby(\"product_id\").size().reset_index(name=\"delay_count\")\n",
    "\n",
    "# 지연 횟수 상위 10개 제품\n",
    "top_delayed_products = delayed_products_count.sort_values(by=\"delay_count\", ascending=False).head(10)\n",
    "\n",
    "# 제품 카테고리 추가\n",
    "top_delayed_products = pd.merge(top_delayed_products, products[[\"product_id\", \"product_category_name\"]], on=\"product_id\", how=\"left\")\n",
    "\n",
    "# 결과 표시\n",
    "print(top_delayed_products)"
   ]
  },
  {
   "cell_type": "markdown",
   "metadata": {},
   "source": [
    "### 왜 늦어졌는지 분석해 보기"
   ]
  },
  {
   "cell_type": "code",
   "execution_count": 23,
   "metadata": {},
   "outputs": [
    {
     "data": {
      "text/html": [
       "<div>\n",
       "<style scoped>\n",
       "    .dataframe tbody tr th:only-of-type {\n",
       "        vertical-align: middle;\n",
       "    }\n",
       "\n",
       "    .dataframe tbody tr th {\n",
       "        vertical-align: top;\n",
       "    }\n",
       "\n",
       "    .dataframe thead th {\n",
       "        text-align: right;\n",
       "    }\n",
       "</style>\n",
       "<table border=\"1\" class=\"dataframe\">\n",
       "  <thead>\n",
       "    <tr style=\"text-align: right;\">\n",
       "      <th></th>\n",
       "      <th>product_id</th>\n",
       "      <th>delay_count</th>\n",
       "      <th>product_category_name</th>\n",
       "    </tr>\n",
       "  </thead>\n",
       "  <tbody>\n",
       "    <tr>\n",
       "      <th>0</th>\n",
       "      <td>422879e10f46682990de24d770e7f83d</td>\n",
       "      <td>47</td>\n",
       "      <td>ferramentas_jardim</td>\n",
       "    </tr>\n",
       "    <tr>\n",
       "      <th>1</th>\n",
       "      <td>aca2eb7d00ea1a7b8ebd4e68314663af</td>\n",
       "      <td>42</td>\n",
       "      <td>moveis_decoracao</td>\n",
       "    </tr>\n",
       "    <tr>\n",
       "      <th>2</th>\n",
       "      <td>3fbc0ef745950c7932d5f2a446189725</td>\n",
       "      <td>39</td>\n",
       "      <td>beleza_saude</td>\n",
       "    </tr>\n",
       "    <tr>\n",
       "      <th>3</th>\n",
       "      <td>389d119b48cf3043d311335e499d9c6b</td>\n",
       "      <td>30</td>\n",
       "      <td>ferramentas_jardim</td>\n",
       "    </tr>\n",
       "    <tr>\n",
       "      <th>4</th>\n",
       "      <td>368c6c730842d78016ad823897a372db</td>\n",
       "      <td>29</td>\n",
       "      <td>ferramentas_jardim</td>\n",
       "    </tr>\n",
       "    <tr>\n",
       "      <th>5</th>\n",
       "      <td>99a4788cb24856965c36a24e339b6058</td>\n",
       "      <td>29</td>\n",
       "      <td>cama_mesa_banho</td>\n",
       "    </tr>\n",
       "    <tr>\n",
       "      <th>6</th>\n",
       "      <td>53759a2ecddad2bb87a079a1f1519f73</td>\n",
       "      <td>29</td>\n",
       "      <td>ferramentas_jardim</td>\n",
       "    </tr>\n",
       "    <tr>\n",
       "      <th>7</th>\n",
       "      <td>bb50f2e236e5eea0100680137654686c</td>\n",
       "      <td>28</td>\n",
       "      <td>beleza_saude</td>\n",
       "    </tr>\n",
       "    <tr>\n",
       "      <th>8</th>\n",
       "      <td>19c91ef95d509ea33eda93495c4d3481</td>\n",
       "      <td>28</td>\n",
       "      <td>beleza_saude</td>\n",
       "    </tr>\n",
       "    <tr>\n",
       "      <th>9</th>\n",
       "      <td>e53e557d5a159f5aa2c5e995dfdf244b</td>\n",
       "      <td>25</td>\n",
       "      <td>informatica_acessorios</td>\n",
       "    </tr>\n",
       "  </tbody>\n",
       "</table>\n",
       "</div>"
      ],
      "text/plain": [
       "                         product_id  delay_count   product_category_name\n",
       "0  422879e10f46682990de24d770e7f83d           47      ferramentas_jardim\n",
       "1  aca2eb7d00ea1a7b8ebd4e68314663af           42        moveis_decoracao\n",
       "2  3fbc0ef745950c7932d5f2a446189725           39            beleza_saude\n",
       "3  389d119b48cf3043d311335e499d9c6b           30      ferramentas_jardim\n",
       "4  368c6c730842d78016ad823897a372db           29      ferramentas_jardim\n",
       "5  99a4788cb24856965c36a24e339b6058           29         cama_mesa_banho\n",
       "6  53759a2ecddad2bb87a079a1f1519f73           29      ferramentas_jardim\n",
       "7  bb50f2e236e5eea0100680137654686c           28            beleza_saude\n",
       "8  19c91ef95d509ea33eda93495c4d3481           28            beleza_saude\n",
       "9  e53e557d5a159f5aa2c5e995dfdf244b           25  informatica_acessorios"
      ]
     },
     "execution_count": 23,
     "metadata": {},
     "output_type": "execute_result"
    }
   ],
   "source": [
    "top_delayed_products"
   ]
  },
  {
   "cell_type": "code",
   "execution_count": 25,
   "metadata": {},
   "outputs": [],
   "source": [
    "top_delayed_weights = products[\"product_weight_g\"].mean()\n",
    "top_delayed_volumes = ( products[\"product_length_cm\"] *\n",
    "                        products[\"product_width_cm\"] *\n",
    "                        products[\"product_height_cm\"]).mean()\n",
    "\n",
    "# 2️⃣ 일반 제품(지연되지 않은 제품)들의 무게 & 부피 평균 계산\n",
    "normal_products = full_df[~full_df[\"product_id\"].isin(top_delayed_products[\"product_id\"])]\n",
    "normal_weights = normal_products[\"product_weight_g\"].mean()\n",
    "normal_volumes = (normal_products[\"product_length_cm\"] *\n",
    "                  normal_products[\"product_width_cm\"] *\n",
    "                  normal_products[\"product_height_cm\"]).mean()"
   ]
  },
  {
   "cell_type": "code",
   "execution_count": 26,
   "metadata": {},
   "outputs": [
    {
     "data": {
      "text/plain": [
       "Text(0.5, 1.0, 'Comparison of Average Volume')"
      ]
     },
     "execution_count": 26,
     "metadata": {},
     "output_type": "execute_result"
    },
    {
     "data": {
      "image/png": "[encoded data removed]",
      "text/plain": [
       "<Figure size 1500x1000 with 2 Axes>"
      ]
     },
     "metadata": {},
     "output_type": "display_data"
    }
   ],
   "source": [
    "# 📊 시각화\n",
    "plt.figure(figsize=(15, 10))\n",
    "\n",
    "# 무게 비교\n",
    "plt.subplot(1, 2, 1)\n",
    "plt.bar([\"Most Delayed Products\", \"Regular Products\"], [top_delayed_weights, normal_weights])\n",
    "plt.xlabel(\"Product Type\")\n",
    "plt.ylabel(\"Average Weight (g)\")\n",
    "plt.title(\"Comparison of Average Weight\")\n",
    "\n",
    "\n",
    "# 부피 비교\n",
    "plt.subplot(1, 2, 2)\n",
    "plt.bar([\"Most Delayed Products\", \"Regular Products\"], [top_delayed_volumes, normal_volumes])\n",
    "plt.xlabel(\"Product Type\")\n",
    "plt.ylabel(\"Average Volume (cm³)\")\n",
    "plt.title(\"Comparison of Average Volume\")"
   ]
  },
  {
   "cell_type": "markdown",
   "metadata": {},
   "source": [
    "### 거리에 따른 배송지연 분석해보기"
   ]
  },
  {
   "cell_type": "code",
   "execution_count": 27,
   "metadata": {},
   "outputs": [],
   "source": [
    "#우편 번호로 분석 해보려 했는데 우편번호 비슷한걸로 분석하기에는 너무 근거 없어서\n",
    "#✅ 새로운 분석 방법 (도시 기반)\n",
    "# Step 1: 고객과 판매자의 도시 정보 추가\n",
    "# Step 2: 같은 도시에 있는 경우와 다른 도시에 있는 경우 나누기\n",
    "# Step 3: 각 그룹별 평균 배송 지연 시간 비교"
   ]
  },
  {
   "cell_type": "code",
   "execution_count": 28,
   "metadata": {},
   "outputs": [
    {
     "data": {
      "text/html": [
       "<div>\n",
       "<style scoped>\n",
       "    .dataframe tbody tr th:only-of-type {\n",
       "        vertical-align: middle;\n",
       "    }\n",
       "\n",
       "    .dataframe tbody tr th {\n",
       "        vertical-align: top;\n",
       "    }\n",
       "\n",
       "    .dataframe thead th {\n",
       "        text-align: right;\n",
       "    }\n",
       "</style>\n",
       "<table border=\"1\" class=\"dataframe\">\n",
       "  <thead>\n",
       "    <tr style=\"text-align: right;\">\n",
       "      <th></th>\n",
       "      <th>same_city</th>\n",
       "      <th>delivery_delay</th>\n",
       "    </tr>\n",
       "  </thead>\n",
       "  <tbody>\n",
       "    <tr>\n",
       "      <th>0</th>\n",
       "      <td>Different City</td>\n",
       "      <td>-12.172794</td>\n",
       "    </tr>\n",
       "    <tr>\n",
       "      <th>1</th>\n",
       "      <td>Same City</td>\n",
       "      <td>-9.430818</td>\n",
       "    </tr>\n",
       "  </tbody>\n",
       "</table>\n",
       "</div>"
      ],
      "text/plain": [
       "        same_city  delivery_delay\n",
       "0  Different City      -12.172794\n",
       "1       Same City       -9.430818"
      ]
     },
     "execution_count": 28,
     "metadata": {},
     "output_type": "execute_result"
    }
   ],
   "source": [
    "# 🚀 같은 도시에 있는 경우와 다른 도시에 있는 경우 구분\n",
    "full_df['same_city'] = full_df['customer_city'] == full_df['seller_city']\n",
    "# 각 그룹별 평균 배송 지연 시간 계산\n",
    "city_delay = full_df.groupby('same_city')['delivery_delay'].mean().reset_index()\n",
    "city_delay['same_city'] = city_delay['same_city'].map({True: 'Same City', False: 'Different City'})\n",
    "city_delay\n",
    "\n",
    "# 예상 배송일보다 더 빨리 도착하는 경향이 있지만 다른 값이더 오래 걸림"
   ]
  },
  {
   "cell_type": "markdown",
   "metadata": {},
   "source": [
    "## 모델링 및 평가"
   ]
  },
  {
   "cell_type": "markdown",
   "metadata": {},
   "source": [
    "### 데이터 준비"
   ]
  },
  {
   "cell_type": "code",
   "execution_count": 15,
   "metadata": {},
   "outputs": [],
   "source": [
    "# 특성 선택\n",
    "feature_columns = [\n",
    "    'product_weight_g', 'product_length_cm', 'product_height_cm', \n",
    "    'product_width_cm', 'product_volume_cm3', 'freight_value'\n",
    "]\n",
    "\n",
    "# 데이터 분할 및 스케일링\n",
    "X = full_df[feature_columns]\n",
    "y = full_df['delayed'].astype(int)\n",
    "\n",
    "X_train, X_test, y_train, y_test = train_test_split(X, y, test_size=0.2, random_state=42)\n",
    "\n",
    "scaler = StandardScaler()\n",
    "X_train_scaled = scaler.fit_transform(X_train)\n",
    "X_test_scaled = scaler.transform(X_test)"
   ]
  },
  {
   "cell_type": "markdown",
   "metadata": {},
   "source": [
    "###  모델 학습 및 평가"
   ]
  },
  {
   "cell_type": "code",
   "execution_count": 20,
   "metadata": {},
   "outputs": [
    {
     "name": "stdout",
     "output_type": "stream",
     "text": [
      "\n",
      "Random Forest Results:\n",
      "              precision    recall  f1-score   support\n",
      "\n",
      "           0       0.94      0.98      0.96     20535\n",
      "           1       0.37      0.14      0.20      1504\n",
      "\n",
      "    accuracy                           0.93     22039\n",
      "   macro avg       0.66      0.56      0.58     22039\n",
      "weighted avg       0.90      0.93      0.91     22039\n",
      "\n",
      "ROC-AUC: 0.6572\n",
      "\n",
      "Logistic Regression Results:\n",
      "              precision    recall  f1-score   support\n",
      "\n",
      "           0       0.93      1.00      0.96     20535\n",
      "           1       0.00      0.00      0.00      1504\n",
      "\n",
      "    accuracy                           0.93     22039\n",
      "   macro avg       0.47      0.50      0.48     22039\n",
      "weighted avg       0.87      0.93      0.90     22039\n",
      "\n",
      "ROC-AUC: 0.5837\n",
      "\n",
      "XGBoost Results:\n",
      "              precision    recall  f1-score   support\n",
      "\n",
      "           0       0.93      1.00      0.96     20535\n",
      "           1       0.65      0.02      0.03      1504\n",
      "\n",
      "    accuracy                           0.93     22039\n",
      "   macro avg       0.79      0.51      0.50     22039\n",
      "weighted avg       0.91      0.93      0.90     22039\n",
      "\n",
      "ROC-AUC: 0.6389\n"
     ]
    }
   ],
   "source": [
    "from sklearn.ensemble import RandomForestClassifier\n",
    "from sklearn.linear_model import LogisticRegression\n",
    "from sklearn.metrics import classification_report, roc_auc_score\n",
    "from sklearn.impute import SimpleImputer\n",
    "from sklearn.preprocessing import StandardScaler\n",
    "import xgboost as xgb\n",
    "\n",
    "# Step 1: 결측값 처리 (평균값으로 대체)\n",
    "imputer = SimpleImputer(strategy='mean')\n",
    "X_train_imputed = imputer.fit_transform(X_train_scaled)  # 학습 데이터 결측값 처리\n",
    "X_test_imputed = imputer.transform(X_test_scaled)       # 테스트 데이터 결측값 처리\n",
    "\n",
    "# Step 2: 스케일링 (스케일링이 필요하다면)\n",
    "scaler = StandardScaler()\n",
    "X_train_scaled_final = scaler.fit_transform(X_train_imputed)\n",
    "X_test_scaled_final = scaler.transform(X_test_imputed)\n",
    "\n",
    "# Step 3: 모델 정의\n",
    "models = {\n",
    "    'Random Forest': RandomForestClassifier(random_state=42),\n",
    "    'Logistic Regression': LogisticRegression(random_state=42),\n",
    "    'XGBoost': xgb.XGBClassifier(random_state=42)\n",
    "}\n",
    "\n",
    "# Step 4: 모델 학습 및 평가\n",
    "results = {}\n",
    "\n",
    "for name, model in models.items():\n",
    "    # 모델 학습\n",
    "    model.fit(X_train_scaled_final, y_train)\n",
    "    \n",
    "    # 예측 결과\n",
    "    y_pred = model.predict(X_test_scaled_final)\n",
    "    y_pred_proba = model.predict_proba(X_test_scaled_final)[:, 1]  # ROC-AUC 계산용 확률값\n",
    "    \n",
    "    # 결과 저장\n",
    "    results[name] = {\n",
    "        'classification_report': classification_report(y_test, y_pred),\n",
    "        'roc_auc': roc_auc_score(y_test, y_pred_proba)\n",
    "    }\n",
    "    \n",
    "    # 결과 출력\n",
    "    print(f\"\\n{name} Results:\")\n",
    "    print(results[name]['classification_report'])\n",
    "    print(f\"ROC-AUC: {results[name]['roc_auc']:.4f}\")\n"
   ]
  },
  {
   "cell_type": "markdown",
   "metadata": {},
   "source": [
    "### 결과 시각화"
   ]
  },
  {
   "cell_type": "code",
   "execution_count": 21,
   "metadata": {},
   "outputs": [
    {
     "data": {
      "image/png": "[encoded data removed]",
      "text/plain": [
       "<Figure size 800x500 with 1 Axes>"
      ]
     },
     "metadata": {},
     "output_type": "display_data"
    }
   ],
   "source": [
    "# ROC-AUC 비교\n",
    "plt.figure(figsize=(8, 5))\n",
    "plt.bar(results.keys(), [res['roc_auc'] for res in results.values()])\n",
    "plt.title(\"Model ROC-AUC Comparison\")\n",
    "plt.ylabel(\"ROC-AUC\")\n",
    "plt.show()"
   ]
  },
  {
   "cell_type": "markdown",
   "metadata": {},
   "source": []
  }
 ],
 "metadata": {
  "kernelspec": {
   "display_name": "python-training",
   "language": "python",
   "name": "python3"
  },
  "language_info": {
   "codemirror_mode": {
    "name": "ipython",
    "version": 3
   },
   "file_extension": ".py",
   "mimetype": "text/x-python",
   "name": "python",
   "nbconvert_exporter": "python",
   "pygments_lexer": "ipython3",
   "version": "3.10.16"
  }
 },
 "nbformat": 4,
 "nbformat_minor": 2
}
