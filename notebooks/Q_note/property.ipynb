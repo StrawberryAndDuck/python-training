{
 "cells": [
  {
   "cell_type": "markdown",
   "metadata": {},
   "source": [
    "# Getter, Setter\n",
    "- Getter : 객체가 가지고 있는 인스턴스 필드 값을 얻어오는 함수\n",
    "- Setter : 객체의 인스턴스 필드에 값을 지정해주는 함수"
   ]
  },
  {
   "cell_type": "code",
   "execution_count": 61,
   "metadata": {},
   "outputs": [],
   "source": [
    "class SampleObject:\n",
    "    def __init__(self, a, b):\n",
    "        self.a = a\n",
    "        self.b = b\n",
    "    \n",
    "    def get_a(self):\n",
    "        return self.a\n",
    "    \n",
    "    def get_b(self):\n",
    "        return self.b"
   ]
  },
  {
   "cell_type": "code",
   "execution_count": 62,
   "metadata": {},
   "outputs": [],
   "source": [
    "o1 = SampleObject(a=1, b=1) # 객체 생성시에 __init__ 함수가 호출\n",
    "o2 = SampleObject(a=2, b=3)"
   ]
  },
  {
   "cell_type": "code",
   "execution_count": 65,
   "metadata": {},
   "outputs": [
    {
     "data": {
      "text/plain": [
       "__main__.SampleObject"
      ]
     },
     "execution_count": 65,
     "metadata": {},
     "output_type": "execute_result"
    }
   ],
   "source": [
    "SampleObject"
   ]
  },
  {
   "cell_type": "code",
   "execution_count": 66,
   "metadata": {},
   "outputs": [
    {
     "data": {
      "text/plain": [
       "<__main__.SampleObject at 0x107d496c0>"
      ]
     },
     "execution_count": 66,
     "metadata": {},
     "output_type": "execute_result"
    }
   ],
   "source": [
    "SampleObject(a=4, b=6)"
   ]
  },
  {
   "cell_type": "code",
   "execution_count": 64,
   "metadata": {},
   "outputs": [
    {
     "name": "stdout",
     "output_type": "stream",
     "text": [
      "1\n",
      "3\n"
     ]
    }
   ],
   "source": [
    "# Getter, Setter를 안썻을때\n",
    "# 객체의 인스턴스 필드를 직접 참조\n",
    "# 참고 : 멤버 = 필드 + 메소드\n",
    "\n",
    "print(o1.get_a())\n",
    "print(o2.get_b())"
   ]
  },
  {
   "cell_type": "code",
   "execution_count": 67,
   "metadata": {},
   "outputs": [],
   "source": [
    "o3 = SampleObject(a=3, b=4)"
   ]
  },
  {
   "cell_type": "code",
   "execution_count": 68,
   "metadata": {},
   "outputs": [
    {
     "name": "stdout",
     "output_type": "stream",
     "text": [
      "3\n",
      "3\n"
     ]
    }
   ],
   "source": [
    "# 직접 참조도 가능하며, Getter함수로도 접근이 가능하면 무의미하다.\n",
    "# 왜? Getter 함수는 접근 제어자의 역할을 수행한다.\n",
    "# 접근 제어자란? 말 그대로 접근을 제어. 이 개념을 이해하기 위해서는 예시를 봐야 한다~\n",
    "print(o3.a)\n",
    "print(o3.get_a())"
   ]
  },
  {
   "cell_type": "code",
   "execution_count": 43,
   "metadata": {},
   "outputs": [],
   "source": [
    "class MySQLConnection:\n",
    "    def __init__(self, db_host, db_user, db_password, db_name):\n",
    "        self.__db_host = db_host # Python에서 필드에 언더바(_) 2번을 쓰면 private으로 바뀌어서 직접 참조가 불가능\n",
    "        self.__db_user = db_user\n",
    "        self.__db_password = db_password\n",
    "        self.__db_name = db_name\n",
    "    \n",
    "    def get_host(self):\n",
    "        "
   ]
  },
  {
   "cell_type": "code",
   "execution_count": 44,
   "metadata": {},
   "outputs": [],
   "source": [
    "conn = MySQLConnection(\n",
    "    db_host=\"127.0.0.1\",\n",
    "    db_user=\"root\",\n",
    "    db_password=\"rootpassword\",\n",
    "    db_name=\"mydb\"\n",
    ")"
   ]
  },
  {
   "cell_type": "code",
   "execution_count": 45,
   "metadata": {},
   "outputs": [
    {
     "data": {
      "text/plain": [
       "'127.0.0.1'"
      ]
     },
     "execution_count": 45,
     "metadata": {},
     "output_type": "execute_result"
    }
   ],
   "source": [
    "conn.get_host()"
   ]
  },
  {
   "cell_type": "code",
   "execution_count": 46,
   "metadata": {},
   "outputs": [
    {
     "ename": "AttributeError",
     "evalue": "'MySQLConnection' object has no attribute '__db_host'",
     "output_type": "error",
     "traceback": [
      "\u001b[0;31m---------------------------------------------------------------------------\u001b[0m",
      "\u001b[0;31mAttributeError\u001b[0m                            Traceback (most recent call last)",
      "Cell \u001b[0;32mIn[46], line 1\u001b[0m\n\u001b[0;32m----> 1\u001b[0m \u001b[43mconn\u001b[49m\u001b[38;5;241;43m.\u001b[39;49m\u001b[43m__db_host\u001b[49m\n",
      "\u001b[0;31mAttributeError\u001b[0m: 'MySQLConnection' object has no attribute '__db_host'"
     ]
    }
   ],
   "source": [
    "conn.__db_host"
   ]
  },
  {
   "cell_type": "code",
   "execution_count": 47,
   "metadata": {},
   "outputs": [],
   "source": [
    "# 여기서 __db_host는 기존에 객체가 가지고 있는 (__)db_host를 수정하는 것이 아니라\n",
    "# 새로운 별도의 __db_host 필드를 만든것임.\n",
    "conn.__db_host = \"11\""
   ]
  },
  {
   "cell_type": "code",
   "execution_count": 48,
   "metadata": {},
   "outputs": [
    {
     "data": {
      "text/plain": [
       "'11'"
      ]
     },
     "execution_count": 48,
     "metadata": {},
     "output_type": "execute_result"
    }
   ],
   "source": [
    "conn.__db_host"
   ]
  },
  {
   "cell_type": "code",
   "execution_count": 42,
   "metadata": {},
   "outputs": [
    {
     "data": {
      "text/plain": [
       "'127.0.0.1'"
      ]
     },
     "execution_count": 42,
     "metadata": {},
     "output_type": "execute_result"
    }
   ],
   "source": [
    "conn.get_host()"
   ]
  },
  {
   "cell_type": "code",
   "execution_count": 50,
   "metadata": {},
   "outputs": [
    {
     "name": "stdout",
     "output_type": "stream",
     "text": [
      "127.0.0.2\n"
     ]
    }
   ],
   "source": [
    "conn.set_host(\"127.0.0.2\")\n",
    "setted_host = conn.get_host()\n",
    "print(setted_host)"
   ]
  },
  {
   "cell_type": "code",
   "execution_count": 29,
   "metadata": {},
   "outputs": [
    {
     "name": "stdout",
     "output_type": "stream",
     "text": [
      "입력하신 값은 회문이 아닙니다.\n"
     ]
    }
   ],
   "source": [
    "def palindrome(name):\n",
    "    if name == name[::-1]: \n",
    "        print(\"입력하신 값은 회문 입니다.\")\n",
    "    else:\n",
    "        print(\"입력하신 값은 회문이 아닙니다.\")\n",
    "\n",
    "name = input(\"값을 입력하세요:\")\n",
    "palindrome(name)"
   ]
  },
  {
   "cell_type": "code",
   "execution_count": 31,
   "metadata": {},
   "outputs": [
    {
     "name": "stdout",
     "output_type": "stream",
     "text": [
      "입력하신 값은 회문이 아닙니다.\n"
     ]
    }
   ],
   "source": [
    "name = input(\"값을 입력하세요:\")\n",
    "\n",
    "def palindrome(*args):\n",
    "    if name[0] == name[n]: \n",
    "        print(\"입력하신 값은 회문 입니다.\")\n",
    "    else:\n",
    "        print(\"입력하신 값은 회문이 아닙니다.\")\n",
    "\n",
    "palindrome(name)"
   ]
  },
  {
   "cell_type": "code",
   "execution_count": 96,
   "metadata": {},
   "outputs": [
    {
     "name": "stdout",
     "output_type": "stream",
     "text": [
      "{'국어': 1, '영어': 2, '수학': 3, '사회': 4, '과학': 5}\n"
     ]
    }
   ],
   "source": [
    "# 예시 입력 : 76 88 62 94 78\n",
    "# scores_1 = input('국어, 영어, 수학, 사회, 과학 순서대로 성적을 입력하세요.')\n",
    "scores = input('국어, 영어, 수학, 사회, 과학 순서대로 성적을 입력하세요.').split(',')\n",
    "keys = ['국어', '영어', '수학', '사회', '과학']\n",
    "values = [int(score) for score in scores]\n",
    "\n",
    "scores = dict(zip(keys, values))\n",
    "for score in scores if \n",
    "\n",
    "\n",
    "# 예시 출력\n",
    "# 최저 점수: 수학\n",
    "# 최고 점수: 사회\n",
    "# 평균 점수: 79.6"
   ]
  },
  {
   "cell_type": "code",
   "execution_count": null,
   "metadata": {},
   "outputs": [],
   "source": []
  },
  {
   "cell_type": "code",
   "execution_count": null,
   "metadata": {},
   "outputs": [],
   "source": []
  },
  {
   "cell_type": "code",
   "execution_count": null,
   "metadata": {},
   "outputs": [],
   "source": [
    "# 예시 정답\n",
    "정답: 39276\n",
    "\n",
    "# 예시 입력\n",
    "입력: 47209\n",
    "\n",
    "# 예시 출력\n",
    "출력:\n",
    ">>> 1 strike 2 ball"
   ]
  }
 ],
 "metadata": {
  "kernelspec": {
   "display_name": "python-training",
   "language": "python",
   "name": "python3"
  },
  "language_info": {
   "codemirror_mode": {
    "name": "ipython",
    "version": 3
   },
   "file_extension": ".py",
   "mimetype": "text/x-python",
   "name": "python",
   "nbconvert_exporter": "python",
   "pygments_lexer": "ipython3",
   "version": "3.10.16"
  }
 },
 "nbformat": 4,
 "nbformat_minor": 2
}
