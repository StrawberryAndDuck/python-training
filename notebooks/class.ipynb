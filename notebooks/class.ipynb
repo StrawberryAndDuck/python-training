{
 "cells": [
  {
   "cell_type": "code",
   "execution_count": 2,
   "metadata": {},
   "outputs": [],
   "source": [
    "# 외워야 할 것\n",
    "# 1. 클래스 안의 모든 함수들은 무조건 self로 시작\n",
    "# 2. 객체를 생성하려면 클래스명 쓰고 괄호 열고 닫고\n",
    "# 3. 그 괄호 사이에 오는 인자들은 _init__의 파라미터\n",
    "\n",
    "class SampleObject:\n",
    "    def __init__(self, a, b, c):\n",
    "        self.a = a\n",
    "        self.b = b\n",
    "        self.c = c"
   ]
  },
  {
   "cell_type": "code",
   "execution_count": 4,
   "metadata": {},
   "outputs": [],
   "source": [
    "o1 = SampleObject(a=1, b=2, c=3)"
   ]
  },
  {
   "cell_type": "code",
   "execution_count": 20,
   "metadata": {},
   "outputs": [
    {
     "data": {
      "text/plain": [
       "1"
      ]
     },
     "execution_count": 20,
     "metadata": {},
     "output_type": "execute_result"
    }
   ],
   "source": [
    "o1.a"
   ]
  },
  {
   "cell_type": "code",
   "execution_count": 8,
   "metadata": {},
   "outputs": [],
   "source": [
    "o2 = SampleObject(a=4, b=5, c=6)"
   ]
  },
  {
   "cell_type": "code",
   "execution_count": 13,
   "metadata": {},
   "outputs": [],
   "source": [
    "# o3 ~ o8 까지 원하는 값을 넣어서 만들어보자\n",
    "o3 = SampleObject(a=7, b=8, c=9)\n",
    "o4 = SampleObject(a=10, b=11, c=12)\n",
    "o5 = SampleObject(a=13, b=14, c=15)\n",
    "o6 = SampleObject(a=16, b=17, c=18)\n",
    "o7 = SampleObject(a=19, b=20, c=21)\n",
    "o8 = SampleObject(a=22, b=23, c=24)"
   ]
  },
  {
   "cell_type": "code",
   "execution_count": 17,
   "metadata": {},
   "outputs": [
    {
     "name": "stdout",
     "output_type": "stream",
     "text": [
      "1 2 3\n",
      "10 11 12\n",
      "19 20 21\n"
     ]
    }
   ],
   "source": [
    "# 원하는 객체 3개를 골라서 a, b, c를 print해보자\n",
    "print(o1.a, o1.b, o1.c)\n",
    "print(o4.a, o4.b, o4.c)\n",
    "print(o7.a, o7.b, o7.c)"
   ]
  },
  {
   "cell_type": "code",
   "execution_count": 18,
   "metadata": {},
   "outputs": [
    {
     "data": {
      "text/plain": [
       "<__main__.SampleObject at 0x10a105ba0>"
      ]
     },
     "execution_count": 18,
     "metadata": {},
     "output_type": "execute_result"
    }
   ],
   "source": [
    "o1"
   ]
  },
  {
   "cell_type": "code",
   "execution_count": 19,
   "metadata": {},
   "outputs": [
    {
     "data": {
      "text/plain": [
       "<__main__.SampleObject at 0x105d00a90>"
      ]
     },
     "execution_count": 19,
     "metadata": {},
     "output_type": "execute_result"
    }
   ],
   "source": [
    "o2"
   ]
  },
  {
   "cell_type": "code",
   "execution_count": 6,
   "metadata": {},
   "outputs": [
    {
     "name": "stdout",
     "output_type": "stream",
     "text": [
      "끝까지 화이팅!\n"
     ]
    }
   ],
   "source": [
    "# 첫 클래스 만들기\n",
    "class Aiffel:  # 클래스 이름은 대문자로 시작!\n",
    "    def cheer(self):\n",
    "        print('끝까지 화이팅!')\n",
    "\n",
    "person1 = Aiffel()\n",
    "person1.cheer()"
   ]
  },
  {
   "cell_type": "code",
   "execution_count": 7,
   "metadata": {},
   "outputs": [
    {
     "name": "stdout",
     "output_type": "stream",
     "text": [
      "suxi, 끝까지 화이팅!\n"
     ]
    }
   ],
   "source": [
    "class Aiffel: \n",
    "    def __init__(self, name): \n",
    "        self.new = name  # 속성과 속성값의 변수는 달라도 됩니다.\n",
    "    def cheer(self):\n",
    "        print(f\"{self.new}, 끝까지 화이팅!\")\n",
    "# Q. 각자의 이름을 넣어서 코드를 돌려주세요.\n",
    "python = Aiffel('suxi')  \n",
    "# Q. cheer 메서드를 호출해 보세요. \n",
    "python.cheer()"
   ]
  },
  {
   "cell_type": "code",
   "execution_count": 36,
   "metadata": {},
   "outputs": [
    {
     "name": "stdout",
     "output_type": "stream",
     "text": [
      "엉\n",
      "엉\n",
      "엄\n",
      "마\n",
      "아\n",
      "아\n",
      "아\n"
     ]
    }
   ],
   "source": [
    "# 사람 클래스로 정의하기\n",
    "# 사람 클래스 인스턴스를 생성해서 human 변수에 바인딩\n",
    "# 사람 클래스에 \"응애응애\"를 화면에 출력하는 cry() 메소드를 추가하라\n",
    "# 다음과 같은 코드가 동작하도록 사람 클래스를 수정하라\n",
    "\n",
    "class 사람:\n",
    "    def cry(self, 울음소리):\n",
    "        for word in 울음소리:\n",
    "            print(word)\n",
    "\n",
    "human = 사람()\n",
    "human.cry('엉엉')\n",
    "human.cry('엄마아아아')"
   ]
  },
  {
   "cell_type": "code",
   "execution_count": 37,
   "metadata": {},
   "outputs": [
    {
     "name": "stdout",
     "output_type": "stream",
     "text": [
      "김철수에게 010-1234-5678로 발신중\n"
     ]
    }
   ],
   "source": [
    "# 다음 코드가 동작하도록 사람 클래스를 수정하라\n",
    "class Person:\n",
    "    def call(self, name, number):\n",
    "        print(f'{name}에게 {number}로 발신중')\n",
    "\n",
    "human = Person()\n",
    "human.call(\"김철수\", \"010-1234-5678\")\n",
    "# 김철수에게 010-1234-5678 발신중"
   ]
  },
  {
   "cell_type": "code",
   "execution_count": 93,
   "metadata": {},
   "outputs": [
    {
     "name": "stdout",
     "output_type": "stream",
     "text": [
      "유X훈\n",
      "유XX라\n"
     ]
    }
   ],
   "source": [
    "# 다음 코드가 동작하도록 사람 클래스를 수정하라\n",
    "\n",
    "class Person:\n",
    "    def 개인정보(self, name):\n",
    "        center = \"X\" * (len(name) -2)\n",
    "        print(name[0] + center + name[-1])\n",
    "\n",
    "human = Person()\n",
    "human.개인정보(\"유정훈\")\n",
    "human.개인정보(\"유빛나라\")"
   ]
  },
  {
   "cell_type": "code",
   "execution_count": 94,
   "metadata": {},
   "outputs": [
    {
     "name": "stdout",
     "output_type": "stream",
     "text": [
      "유X훈\n"
     ]
    }
   ],
   "source": [
    "name = \"유정훈\"\n",
    "center = \"X\" * (len(name) -2)\n",
    "center = (name[0] + center + name[-1])\n",
    "print(center)"
   ]
  },
  {
   "cell_type": "code",
   "execution_count": 103,
   "metadata": {},
   "outputs": [
    {
     "name": "stdout",
     "output_type": "stream",
     "text": [
      "3 X 1 = 3\n",
      "3 X 2 = 6\n",
      "3 X 3 = 9\n",
      "3 X 4 = 12\n",
      "3 X 5 = 15\n",
      "3 X 6 = 18\n",
      "3 X 7 = 21\n",
      "3 X 8 = 24\n",
      "3 X 9 = 27\n"
     ]
    }
   ],
   "source": [
    "# 구구단 클래스를 정의하라\n",
    "\n",
    "class Times_Table:\n",
    "    def multiply(self, num):\n",
    "        for i in range(1, 10):\n",
    "            print(f\"{num} X {i} = {num*i}\")\n",
    "\n",
    "구구단 = Times_Table()\n",
    "구구단.multiply(3)"
   ]
  },
  {
   "cell_type": "code",
   "execution_count": 121,
   "metadata": {},
   "outputs": [
    {
     "data": {
      "text/plain": [
       "'dd'"
      ]
     },
     "execution_count": 121,
     "metadata": {},
     "output_type": "execute_result"
    }
   ],
   "source": [
    "# StringConverter 클래스를 정의하라.\n",
    "# 이 클래스는 __init__ 메서드에서 문자열을 입력받는다.\n",
    "# convert() 메서드를 호출하면 \"abcdefg\"이 입력되었을 때 \"dd\"를 반환하도록 하라.\n",
    "\n",
    "class StringConverter:\n",
    "    def __init__(self, text):\n",
    "        self.text = text\n",
    "    \n",
    "    def convert(self):\n",
    "        return self.text[3] * 2\n",
    "        \n",
    "converter = StringConverter(\"abcdefg\")\n",
    "converter.convert()\n"
   ]
  },
  {
   "cell_type": "code",
   "execution_count": 123,
   "metadata": {},
   "outputs": [
    {
     "name": "stdout",
     "output_type": "stream",
     "text": [
      "dd\n"
     ]
    }
   ],
   "source": [
    "class StringConverter:\n",
    "    def __init__(self, text):\n",
    "        self.text = text\n",
    "\n",
    "    def __str__(self):\n",
    "        return self.text[3] * 2\n",
    "\n",
    "converter = StringConverter(\"abcdefg\")\n",
    "print(converter)"
   ]
  },
  {
   "cell_type": "code",
   "execution_count": 131,
   "metadata": {},
   "outputs": [
    {
     "name": "stdout",
     "output_type": "stream",
     "text": [
      "응애응애\n"
     ]
    }
   ],
   "source": [
    "# 생성자는 객체 생성시 자동으로 호출된다. 사람 클래스가 생성될 때 \"응애응애\" 문자열이 출력되도록 코드를 수정하라\n",
    "\n",
    "class 사람:\n",
    "    def __init__(self):\n",
    "        print(\"응애응애\")\n",
    "        \n",
    "human = 사람()\n",
    "\n",
    "# 응애응애"
   ]
  },
  {
   "cell_type": "code",
   "execution_count": null,
   "metadata": {},
   "outputs": [],
   "source": []
  }
 ],
 "metadata": {
  "kernelspec": {
   "display_name": "python-training",
   "language": "python",
   "name": "python3"
  },
  "language_info": {
   "codemirror_mode": {
    "name": "ipython",
    "version": 3
   },
   "file_extension": ".py",
   "mimetype": "text/x-python",
   "name": "python",
   "nbconvert_exporter": "python",
   "pygments_lexer": "ipython3",
   "version": "3.10.16"
  }
 },
 "nbformat": 4,
 "nbformat_minor": 2
}
